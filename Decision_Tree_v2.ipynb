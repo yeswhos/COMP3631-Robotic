{
  "nbformat": 4,
  "nbformat_minor": 0,
  "metadata": {
    "colab": {
      "name": "Decision Tree v2.ipynb",
      "provenance": [],
      "authorship_tag": "ABX9TyOjeq9xrbo0ieyUCKpGQQtZ",
      "include_colab_link": true
    },
    "kernelspec": {
      "name": "python3",
      "display_name": "Python 3"
    }
  },
  "cells": [
    {
      "cell_type": "markdown",
      "metadata": {
        "id": "view-in-github",
        "colab_type": "text"
      },
      "source": [
        "<a href=\"https://colab.research.google.com/github/yeswhos/COMP3631-Robotic/blob/master/Decision_Tree_v2.ipynb\" target=\"_parent\"><img src=\"https://colab.research.google.com/assets/colab-badge.svg\" alt=\"Open In Colab\"/></a>"
      ]
    },
    {
      "cell_type": "code",
      "metadata": {
        "id": "m_kydrbs4uYG",
        "colab_type": "code",
        "colab": {
          "base_uri": "https://localhost:8080/",
          "height": 122
        },
        "outputId": "76b6f33c-2b80-4e35-9de2-97a940140280"
      },
      "source": [
        "from google.colab import drive\n",
        "drive.mount('/content/drive')"
      ],
      "execution_count": 6,
      "outputs": [
        {
          "output_type": "stream",
          "text": [
            "Go to this URL in a browser: https://accounts.google.com/o/oauth2/auth?client_id=947318989803-6bn6qk8qdgf4n4g3pfee6491hc0brc4i.apps.googleusercontent.com&redirect_uri=urn%3aietf%3awg%3aoauth%3a2.0%3aoob&response_type=code&scope=email%20https%3a%2f%2fwww.googleapis.com%2fauth%2fdocs.test%20https%3a%2f%2fwww.googleapis.com%2fauth%2fdrive%20https%3a%2f%2fwww.googleapis.com%2fauth%2fdrive.photos.readonly%20https%3a%2f%2fwww.googleapis.com%2fauth%2fpeopleapi.readonly\n",
            "\n",
            "Enter your authorization code:\n",
            "··········\n",
            "Mounted at /content/drive\n"
          ],
          "name": "stdout"
        }
      ]
    },
    {
      "cell_type": "code",
      "metadata": {
        "id": "gf2hfn9F3loB",
        "colab_type": "code",
        "colab": {}
      },
      "source": [
        "\"\"\"\n",
        "函数说明：\n",
        "    对决策树进行分类\n",
        "Parameters：\n",
        "    inputTree：决策树\n",
        "    featLabels：数据集中label顺序列表\n",
        "    testVec：两个特征的属性值[特征一，特征二]\n",
        "Rertun:\n",
        "    classLabel：预测结果\n",
        "    根据两个特征的属性值来预测分类\n",
        "\"\"\"\n",
        "def classify(inputTree, featLabels, testVec):\n",
        "    firstStr = list(inputTree.keys())[0]    # 得到首key值\n",
        "    secondDict = inputTree[firstStr]        # 首key的value--->下一个分支\n",
        "    featIndex = featLabels.index(firstStr)  # 确定根节点是标签向量中的哪一个（索引）\n",
        "    key = testVec[featIndex]                # 确定一个条件后的类别或进入下一个分支有待继续判别\n",
        "    # 这里要注意  我们并不知道目前的这个结点（也就是特征）在数据集中的具体位置 [0,1,no]\n",
        "    # 是第一个 还是第二个 所以需要用具体值再找索引的方式\n",
        "    # 找到了索引之后 我们就可以确定他是数据集中的哪一个值\n",
        "    # （这里再强调一下 数据集中特征的属性值的顺序 与 标签向量label中特征的顺序是一致的）\n",
        "    # dataSet = [[1, 1, 'yes']]\n",
        "    # labels = ['no surfacing', 'flippers']\n",
        "    # 这样一来计算机就知道了该在你放入的测试数据集寻找哪一个作为当前节点的预测值了\n",
        "    # 我们又用该索引去查找测试列表处该结点给的预测值是0还是1\n",
        "    # 是0相当于找了no预测值 是1 证明还需要判断或者是yes预测值\n",
        "    valueOfFeat = secondDict[key]\n",
        "    if isinstance(valueOfFeat, dict): # 判断实例函数 和 type函数类似 但是这个更好一点\n",
        "        classLabel = classify(valueOfFeat, featLabels, testVec)\n",
        "    else:\n",
        "        classLabel = valueOfFeat\n",
        "    return classLabel\n",
        "\n",
        "\n",
        "def retrieveTree(i):\n",
        "    listOfTrees = [{'no surfacing': {0: 'no', 1: {'flippers': {0: 'no', 1: 'yes'}}}},\n",
        "                   {'no surfacing': {0: 'no', 1: {'flippers': {0: {'head': {0: 'no', 1: 'yes'}}, 1: 'no'}}}}\n",
        "                   ]\n",
        "    return listOfTrees[i]\n",
        "\n",
        "def createDataSet():\n",
        "    dataSet = [[1, 1, 'yes'],\n",
        "               [1, 1, 'yes'],\n",
        "               [1, 0, 'no'],\n",
        "               [0, 1, 'no'],\n",
        "               [0, 1, 'no']]\n",
        "    labels = ['no surfacing', 'flippers']\n",
        "    # [是否可以浮出水面,是否有脚蹼]\n",
        "    return dataSet, labels\n"
      ],
      "execution_count": 1,
      "outputs": []
    },
    {
      "cell_type": "code",
      "metadata": {
        "id": "gCNyGOOt3_Id",
        "colab_type": "code",
        "colab": {
          "base_uri": "https://localhost:8080/",
          "height": 34
        },
        "outputId": "e8088270-b57b-4ece-f731-33c6e63d096a"
      },
      "source": [
        "if __name__ == '__main__':\n",
        "    data, label = createDataSet()\n",
        "    myTree = retrieveTree(0)\n",
        "    result = classify(myTree, label,[1,1])\n",
        "    if result == 'yes':\n",
        "        print(\"该样本预测是鱼\")\n",
        "    else:\n",
        "        print(\"该样本预测不是鱼\")\n",
        "        # >>>该样本预测是鱼\n"
      ],
      "execution_count": 2,
      "outputs": [
        {
          "output_type": "stream",
          "text": [
            "该样本预测是鱼\n"
          ],
          "name": "stdout"
        }
      ]
    },
    {
      "cell_type": "code",
      "metadata": {
        "id": "S4Cof7fN4OD0",
        "colab_type": "code",
        "colab": {}
      },
      "source": [
        "\"\"\"\n",
        "函数说明：\n",
        "    储存树\n",
        "Parameters：\n",
        "    inputTree：决策树\n",
        "    fiename：完整的文件名 要加后缀\n",
        "Rertun:\n",
        "    None\n",
        "\"\"\"\n",
        "def storeTree(inputTree, filename):\n",
        "    # fw = open(filename,'w')\n",
        "    # pickle.dump(inputTree, fw)\n",
        "    # TypeError: write() argument must be str, not bytes\n",
        "    # 原因：python3更新以后open函数添加了名为encoding的新参数，而这个新参数的默认值却是‘utf-8’。\n",
        "    # 这样在文件句柄上进行read和write操作时，系统就要求开发者必须传入包含Unicode字符的实例\n",
        "    # 而不接受包含二进制数据的bytes实例。\n",
        "    # 解决方法：\n",
        "    # 使用二进制写入模式（‘wb’）来开启待操作文件，而不能像原来那样，采用字符写入模式（‘w’）。\n",
        "    # 另外下面这种方式比较新\n",
        "    with open(filename, 'wb')as fw:\n",
        "        pickle.dump(inputTree, fw)\n",
        "\n",
        "\"\"\"\n",
        "函数说明：\n",
        "    加载树\n",
        "Parameters：\n",
        "    fiename：文件名\n",
        "Rertun:\n",
        "    取出的决策树\n",
        "\"\"\"\n",
        "def grabTree(filename):\n",
        "    # 文件读取数据的时候也有类似的问题。\n",
        "    # 解决这种问题的办法也相似：用'rb'模式（二进制模式）打开文件，而不要使用'r'模式。\n",
        "    with open(filename, \"rb\") as fr:\n",
        "        return pickle.load(fr)"
      ],
      "execution_count": 3,
      "outputs": []
    },
    {
      "cell_type": "code",
      "metadata": {
        "id": "a6icU29k4Ssb",
        "colab_type": "code",
        "colab": {
          "base_uri": "https://localhost:8080/",
          "height": 34
        },
        "outputId": "f8798d9a-b55c-4d6a-ac01-9871356edf31"
      },
      "source": [
        "import pickle\n",
        "if __name__ == '__main__':\n",
        "    data, label = createDataSet()\n",
        "    myTree = retrieveTree(0)\n",
        "    storeTree(myTree, 'drive/My Drive/myTree.txt')\n",
        "    myTree = grabTree('drive/My Drive/myTree.txt')\n",
        "    print(myTree)     # {'no surfacing': {0: 'no', 1: {'flippers': {0: 'no', 1: 'yes'}}}}\n"
      ],
      "execution_count": 8,
      "outputs": [
        {
          "output_type": "stream",
          "text": [
            "{'no surfacing': {0: 'no', 1: {'flippers': {0: 'no', 1: 'yes'}}}}\n"
          ],
          "name": "stdout"
        }
      ]
    }
  ]
}